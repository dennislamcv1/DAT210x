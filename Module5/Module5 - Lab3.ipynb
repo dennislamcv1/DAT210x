{
 "cells": [
  {
   "cell_type": "markdown",
   "metadata": {},
   "source": [
    "# DAT210x - Programming with Python for DS"
   ]
  },
  {
   "cell_type": "markdown",
   "metadata": {},
   "source": [
    "## Module5- Lab3"
   ]
  },
  {
   "cell_type": "code",
   "execution_count": 1,
   "metadata": {},
   "outputs": [],
   "source": [
    "import pandas as pd\n",
    "from datetime import timedelta\n",
    "import matplotlib.pyplot as plt\n",
    "import matplotlib\n",
    "from sklearn.cluster import KMeans\n",
    "\n",
    "matplotlib.style.use('ggplot') # Look Pretty"
   ]
  },
  {
   "cell_type": "markdown",
   "metadata": {},
   "source": [
    "A convenience function for you to use:"
   ]
  },
  {
   "cell_type": "code",
   "execution_count": 2,
   "metadata": {},
   "outputs": [],
   "source": [
    "def clusterInfo(model):\n",
    "    print(\"Cluster Analysis Inertia: \", model.inertia_)\n",
    "    print('------------------------------------------')\n",
    "    \n",
    "    for i in range(len(model.cluster_centers_)):\n",
    "        print(\"\\n  Cluster \", i)\n",
    "        print(\"    Centroid \", model.cluster_centers_[i])\n",
    "        print(\"    #Samples \", (model.labels_==i).sum()) # NumPy Power"
   ]
  },
  {
   "cell_type": "code",
   "execution_count": 3,
   "metadata": {},
   "outputs": [],
   "source": [
    "# Find the cluster with the least # attached nodes\n",
    "def clusterWithFewestSamples(model):\n",
    "    # Ensure there's at least on cluster...\n",
    "    minSamples = len(model.labels_)\n",
    "    minCluster = 0\n",
    "    \n",
    "    for i in range(len(model.cluster_centers_)):\n",
    "        if minSamples > (model.labels_==i).sum():\n",
    "            minCluster = i\n",
    "            minSamples = (model.labels_==i).sum()\n",
    "\n",
    "    print(\"\\n  Cluster With Fewest Samples: \", minCluster)\n",
    "    return (model.labels_==minCluster)"
   ]
  },
  {
   "cell_type": "markdown",
   "metadata": {
    "collapsed": true
   },
   "source": [
    "### CDRs"
   ]
  },
  {
   "cell_type": "markdown",
   "metadata": {
    "collapsed": true
   },
   "source": [
    "A [call detail record](https://en.wikipedia.org/wiki/Call_detail_record) (CDR) is a data record produced by a telephone exchange or other telecommunications equipment that documents the details of a telephone call or other telecommunications transaction (e.g., text message) that passes through that facility or device.\n",
    "\n",
    "The record contains various attributes of the call, such as time, duration, completion status, source number, and destination number. It is the automated equivalent of the paper toll tickets that were written and timed by operators for long-distance calls in a manual telephone exchange.\n",
    "\n",
    "The dataset we've curated for you contains call records for 10 people, tracked over the course of 3 years. Your job in this assignment is to find out where each of these people likely live and where they work at!\n",
    "\n",
    "Start by loading up the dataset and taking a peek at its `head` and `dtypes`. You can convert date-strings to real date-time objects using `pd.to_datetime`, and the times using `pd.to_timedelta`:"
   ]
  },
  {
   "cell_type": "code",
   "execution_count": 4,
   "metadata": {},
   "outputs": [
    {
     "name": "stdout",
     "output_type": "stream",
     "text": [
      "In             int64\n",
      "Out            int64\n",
      "Direction     object\n",
      "CallDate      object\n",
      "CallTime      object\n",
      "DOW           object\n",
      "Duration      object\n",
      "TowerID       object\n",
      "TowerLat     float64\n",
      "TowerLon     float64\n",
      "dtype: object\n"
     ]
    }
   ],
   "source": [
    "df=pd.read_csv('CDR.csv')\n",
    "#print(df)\n",
    "print(df.dtypes)"
   ]
  },
  {
   "cell_type": "code",
   "execution_count": 5,
   "metadata": {},
   "outputs": [
    {
     "name": "stdout",
     "output_type": "stream",
     "text": [
      "In                     int64\n",
      "Out                    int64\n",
      "Direction             object\n",
      "CallDate      datetime64[ns]\n",
      "CallTime     timedelta64[ns]\n",
      "DOW                   object\n",
      "Duration     timedelta64[ns]\n",
      "TowerID               object\n",
      "TowerLat             float64\n",
      "TowerLon             float64\n",
      "dtype: object\n"
     ]
    }
   ],
   "source": [
    "df.CallDate = pd.to_datetime(df.CallDate) # Converts the entries in the 'CallDate' column to datetime\n",
    "df.CallTime = pd.to_timedelta(df.CallTime) # Converts the entries in the 'CallTime' column to timedelta\n",
    "df.Duration = pd.to_timedelta(df.Duration) # Converts the entries in the 'Duration' column to timedelta\n",
    "print(df.dtypes)"
   ]
  },
  {
   "cell_type": "markdown",
   "metadata": {},
   "source": [
    "Create a unique list of the phone number values (people) stored in the `In` column of the dataset, and save them in a regular python list called `unique_numbers`. Manually check through `unique_numbers` to ensure the order the numbers appear is the same order they (uniquely) appear in your dataset:"
   ]
  },
  {
   "cell_type": "code",
   "execution_count": 6,
   "metadata": {},
   "outputs": [
    {
     "name": "stdout",
     "output_type": "stream",
     "text": [
      "<class 'numpy.ndarray'>\n"
     ]
    }
   ],
   "source": [
    "in_numbers = df.In.unique() #distinct == unique\n",
    "#print(in_numbers)\n",
    "\n",
    "print(type(in_numbers)) #numpy.ndarray"
   ]
  },
  {
   "cell_type": "markdown",
   "metadata": {},
   "source": [
    "Using some domain expertise, your intuition should direct you to know that people are likely to behave differently on weekends vs on weekdays:\n",
    "\n",
    "#### On Weekends\n",
    "1. People probably don't go into work\n",
    "1. They probably sleep in late on Saturday\n",
    "1. They probably run a bunch of random errands, since they couldn't during the week\n",
    "1. They should be home, at least during the very late hours, e.g. 1-4 AM\n",
    "\n",
    "#### On Weekdays\n",
    "1. People probably are at work during normal working hours\n",
    "1. They probably are at home in the early morning and during the late night\n",
    "1. They probably spend time commuting between work and home everyday"
   ]
  },
  {
   "cell_type": "code",
   "execution_count": 7,
   "metadata": {},
   "outputs": [
    {
     "name": "stdout",
     "output_type": "stream",
     "text": [
      "Examining person:  0\n"
     ]
    }
   ],
   "source": [
    "print(\"Examining person: \", 0)"
   ]
  },
  {
   "cell_type": "markdown",
   "metadata": {
    "collapsed": true
   },
   "source": [
    "Create a slice called `user1` that filters to only include dataset records where the `In` feature (user phone number) is equal to the first number on your unique list above:"
   ]
  },
  {
   "cell_type": "code",
   "execution_count": 8,
   "metadata": {},
   "outputs": [
    {
     "name": "stdout",
     "output_type": "stream",
     "text": [
      "               In         Out Direction   CallDate        CallTime  DOW  \\\n",
      "0      4638472273  2666307251  Incoming 2010-12-25 07:16:24.736813  Sat   \n",
      "1      4638472273  1755442610  Incoming 2010-12-25 21:18:30.053710  Sat   \n",
      "2      4638472273  5481755331  Incoming 2010-12-25 14:52:42.878016  Sat   \n",
      "3      4638472273  1755442610  Incoming 2010-12-25 16:02:09.001913  Sat   \n",
      "4      4638472273  2145623768  Incoming 2010-12-25 15:28:35.028554  Sat   \n",
      "...           ...         ...       ...        ...             ...  ...   \n",
      "53140  4638472273  2666307251    Missed 2013-02-26 11:26:01.888502  Tue   \n",
      "53141  4638472273  2145623768    Missed 2013-02-26 17:32:18.776276  Tue   \n",
      "53142  4638472273  4551601645  Incoming 2013-02-26 19:12:44.730636  Tue   \n",
      "53143  4638472273  7721472178  Incoming 2013-02-26 07:50:41.435642  Tue   \n",
      "53144  4638472273  6150928001  Incoming 2013-02-26 07:49:56.273334  Tue   \n",
      "\n",
      "             Duration                               TowerID   TowerLat  \\\n",
      "0     00:02:41.741499  0db53dd3-eb9c-4344-abc5-c2d74ebc3eec  32.731611   \n",
      "1     00:02:47.108750  aeaf8b43-8034-44fe-833d-31854a75acbf  32.731722   \n",
      "2     00:04:35.356341  fadaa83f-6001-45fd-aa4a-17d6c6b7ec00  32.899944   \n",
      "3     00:02:23.498499  fadaa83f-6001-45fd-aa4a-17d6c6b7ec00  32.899944   \n",
      "4     00:03:54.692497  95d7920d-c3cd-4d20-a568-9a55800dc807  32.899944   \n",
      "...               ...                                   ...        ...   \n",
      "53140 00:03:08.177065  0296279d-18c3-4709-853e-3e20496ce444  32.899944   \n",
      "53141 00:02:30.823459  78512965-e30b-4734-ae92-47b910fe3d7f  32.899944   \n",
      "53142 00:03:42.954201  8fb02570-fb3f-4381-be74-3e1accf87ec5  32.750556   \n",
      "53143 00:04:04.460385  e78826ad-45b0-45d4-90ec-4776d73f1d8e  32.864167   \n",
      "53144 00:01:35.016406  b0320962-e409-487a-a435-e33ba8123768  32.881111   \n",
      "\n",
      "        TowerLon  \n",
      "0     -96.709417  \n",
      "1     -96.709500  \n",
      "2     -96.910389  \n",
      "3     -96.910389  \n",
      "4     -96.910389  \n",
      "...          ...  \n",
      "53140 -96.910389  \n",
      "53141 -96.910389  \n",
      "53142 -96.694722  \n",
      "53143 -96.836944  \n",
      "53144 -96.856389  \n",
      "\n",
      "[3648 rows x 10 columns]\n"
     ]
    }
   ],
   "source": [
    "user1 = df[(df.In == in_numbers[0])]\n",
    "\n",
    "print(user1)"
   ]
  },
  {
   "cell_type": "markdown",
   "metadata": {},
   "source": [
    "Alter your slice so that it includes only Weekday (Mon-Fri) values:"
   ]
  },
  {
   "cell_type": "code",
   "execution_count": 9,
   "metadata": {},
   "outputs": [
    {
     "name": "stdout",
     "output_type": "stream",
     "text": [
      "               In         Out Direction   CallDate        CallTime  DOW  \\\n",
      "161    4638472273  5912117253    Missed 2010-12-27 18:41:14.639828  Mon   \n",
      "194    4638472273  4217121115  Incoming 2010-12-28 21:36:14.190286  Tue   \n",
      "195    4638472273  6022767590  Incoming 2010-12-28 19:57:19.501140  Tue   \n",
      "196    4638472273  5621270003  Incoming 2010-12-28 17:10:15.465881  Tue   \n",
      "197    4638472273  5481755331  Incoming 2010-12-28 16:20:11.532130  Tue   \n",
      "...           ...         ...       ...        ...             ...  ...   \n",
      "53140  4638472273  2666307251    Missed 2013-02-26 11:26:01.888502  Tue   \n",
      "53141  4638472273  2145623768    Missed 2013-02-26 17:32:18.776276  Tue   \n",
      "53142  4638472273  4551601645  Incoming 2013-02-26 19:12:44.730636  Tue   \n",
      "53143  4638472273  7721472178  Incoming 2013-02-26 07:50:41.435642  Tue   \n",
      "53144  4638472273  6150928001  Incoming 2013-02-26 07:49:56.273334  Tue   \n",
      "\n",
      "             Duration                               TowerID   TowerLat  \\\n",
      "161   00:00:20.304073  09756fb6-223f-43e9-9402-9b90c7048639  32.805667   \n",
      "194   00:05:56.080785  bcec0121-164d-406c-8c04-d12870893992  32.731611   \n",
      "195   00:02:38.219371  bcec0121-164d-406c-8c04-d12870893992  32.731611   \n",
      "196   00:01:56.250335  78512965-e30b-4734-ae92-47b910fe3d7f  32.899944   \n",
      "197   00:03:56.069765  95d7920d-c3cd-4d20-a568-9a55800dc807  32.899944   \n",
      "...               ...                                   ...        ...   \n",
      "53140 00:03:08.177065  0296279d-18c3-4709-853e-3e20496ce444  32.899944   \n",
      "53141 00:02:30.823459  78512965-e30b-4734-ae92-47b910fe3d7f  32.899944   \n",
      "53142 00:03:42.954201  8fb02570-fb3f-4381-be74-3e1accf87ec5  32.750556   \n",
      "53143 00:04:04.460385  e78826ad-45b0-45d4-90ec-4776d73f1d8e  32.864167   \n",
      "53144 00:01:35.016406  b0320962-e409-487a-a435-e33ba8123768  32.881111   \n",
      "\n",
      "        TowerLon  \n",
      "161   -96.796667  \n",
      "194   -96.709417  \n",
      "195   -96.709417  \n",
      "196   -96.910389  \n",
      "197   -96.910389  \n",
      "...          ...  \n",
      "53140 -96.910389  \n",
      "53141 -96.910389  \n",
      "53142 -96.694722  \n",
      "53143 -96.836944  \n",
      "53144 -96.856389  \n",
      "\n",
      "[2006 rows x 10 columns]\n"
     ]
    }
   ],
   "source": [
    "user1 = user1[(user1.DOW == 'Mon') | (user1.DOW == 'Tue')| (user1.DOW == 'Wed')| (user1.DOW == 'Thu')\n",
    "| (user1.DOW == 'Fri')]\n",
    "\n",
    "print(user1)"
   ]
  },
  {
   "cell_type": "markdown",
   "metadata": {},
   "source": [
    "The idea is that the call was placed before 5pm. From Midnight-730a, the user is probably sleeping and won't call / wake up to take a call. There should be a brief time in the morning during their commute to work, then they'll spend the entire day at work. So the assumption is that most of the time is spent either at work, or in 2nd, at home:"
   ]
  },
  {
   "cell_type": "code",
   "execution_count": 10,
   "metadata": {},
   "outputs": [
    {
     "name": "stdout",
     "output_type": "stream",
     "text": [
      "               In         Out Direction   CallDate        CallTime  DOW  \\\n",
      "197    4638472273  5481755331  Incoming 2010-12-28 16:20:11.532130  Tue   \n",
      "200    4638472273  8180005891  Incoming 2010-12-28 15:27:51.105337  Tue   \n",
      "248    4638472273  8180005891    Missed 2010-12-29 09:13:35.198987  Wed   \n",
      "249    4638472273  2145623768  Incoming 2010-12-29 06:02:11.319738  Wed   \n",
      "250    4638472273  8068555700  Incoming 2010-12-29 13:54:14.724722  Wed   \n",
      "...           ...         ...       ...        ...             ...  ...   \n",
      "53091  4638472273  6150928001    Missed 2013-02-25 16:55:01.129212  Mon   \n",
      "53138  4638472273  8068555700  Incoming 2013-02-26 07:28:38.486982  Tue   \n",
      "53140  4638472273  2666307251    Missed 2013-02-26 11:26:01.888502  Tue   \n",
      "53143  4638472273  7721472178  Incoming 2013-02-26 07:50:41.435642  Tue   \n",
      "53144  4638472273  6150928001  Incoming 2013-02-26 07:49:56.273334  Tue   \n",
      "\n",
      "             Duration                               TowerID   TowerLat  \\\n",
      "197   00:03:56.069765  95d7920d-c3cd-4d20-a568-9a55800dc807  32.899944   \n",
      "200   00:03:30.047757  95c91e8b-6ff1-4893-9df3-b0342636bd25  32.899944   \n",
      "248   00:02:10.574446  95c91e8b-6ff1-4893-9df3-b0342636bd25  32.899944   \n",
      "249   00:04:34.436752  9baa92e7-e990-4e9e-8c0a-4c17cb4ecc7c  32.731611   \n",
      "250   00:03:31.297111  fadaa83f-6001-45fd-aa4a-17d6c6b7ec00  32.899944   \n",
      "...               ...                                   ...        ...   \n",
      "53091 00:02:48.163010  0296279d-18c3-4709-853e-3e20496ce444  32.899944   \n",
      "53138 00:03:51.307727  cd9f3b1a-2eb8-4cdb-86d1-5d4c2740b1dc  32.731722   \n",
      "53140 00:03:08.177065  0296279d-18c3-4709-853e-3e20496ce444  32.899944   \n",
      "53143 00:04:04.460385  e78826ad-45b0-45d4-90ec-4776d73f1d8e  32.864167   \n",
      "53144 00:01:35.016406  b0320962-e409-487a-a435-e33ba8123768  32.881111   \n",
      "\n",
      "        TowerLon  \n",
      "197   -96.910389  \n",
      "200   -96.910389  \n",
      "248   -96.910389  \n",
      "249   -96.709417  \n",
      "250   -96.910389  \n",
      "...          ...  \n",
      "53091 -96.910389  \n",
      "53138 -96.709500  \n",
      "53140 -96.910389  \n",
      "53143 -96.836944  \n",
      "53144 -96.856389  \n",
      "\n",
      "[1125 rows x 10 columns]\n",
      "1125\n"
     ]
    }
   ],
   "source": [
    "user1 = user1[(user1.CallTime < '17:00:00')]\n",
    "\n",
    "print(user1)\n",
    "\n",
    "print(len(user1))"
   ]
  },
  {
   "cell_type": "markdown",
   "metadata": {},
   "source": [
    "Plot the Cell Towers the user connected to"
   ]
  },
  {
   "cell_type": "code",
   "execution_count": 11,
   "metadata": {},
   "outputs": [
    {
     "data": {
      "text/plain": [
       "Text(0.5, 1.0, 'Weekdays Calls (<5p.m)')"
      ]
     },
     "execution_count": 11,
     "metadata": {},
     "output_type": "execute_result"
    },
    {
     "data": {
      "image/png": "[encoded data removed]",
      "text/plain": [
       "<Figure size 432x288 with 1 Axes>"
      ]
     },
     "metadata": {},
     "output_type": "display_data"
    }
   ],
   "source": [
    "fig = plt.figure()\n",
    "ax = fig.add_subplot(111)\n",
    "ax.scatter(user1.TowerLon,user1.TowerLat, c='g', marker='o', alpha=0.2)\n",
    "ax.set_title('Weekdays Calls (<5p.m)')"
   ]
  },
  {
   "cell_type": "code",
   "execution_count": 14,
   "metadata": {},
   "outputs": [],
   "source": [
    "def doKMeans(data, num_clusters=0):\n",
    "    # TODO: Be sure to only feed in Lat and Lon coordinates to the KMeans algo, since none of the other\n",
    "    # data is suitable for your purposes. Since both Lat and Lon are (approximately) on the same scale,\n",
    "    # no feature scaling is required. Print out the centroid locations and add them onto your scatter\n",
    "    # plot. Use a distinguishable marker and color.\n",
    "    #\n",
    "    # Hint: Make sure you fit ONLY the coordinates, and in the CORRECT order (lat first). This is part\n",
    "    # of your domain expertise. Also, *YOU* need to create, initialize (and return) the variable named\n",
    "    # `model` here, which will be a SKLearn K-Means model for this to work:\n",
    "    \n",
    "    dataframe = pd.concat([data.TowerLon, data.TowerLat], axis = 1)\n",
    "    kmeans = KMeans(n_clusters=clusters)\n",
    "    labels = kmeans.fit_predict(dataframe)\n",
    "    centroids = kmeans.cluster_centers_\n",
    "    ax.scatter(x = centroids[:, 0], y = centroids[:, 1], marker='x', c='red', alpha=0.9, linewidths=3, s=250)\n",
    "    model = kmeans\n",
    "    return model\n",
    "    \n"
   ]
  },
  {
   "cell_type": "markdown",
   "metadata": {},
   "source": [
    "Let's tun K-Means with `K=3` or `K=4`. There really should only be a two areas of concentration. If you notice multiple areas that are \"hot\" (multiple areas the user spends a lot of time at that are FAR apart from one another), then increase K=5, with the goal being that all centroids except two will sweep up the annoying outliers and not-home, not-work travel occasions. the other two will zero in on the user's approximate home location and work locations. Or rather the location of the cell tower closest to them....."
   ]
  },
  {
   "cell_type": "code",
   "execution_count": 15,
   "metadata": {},
   "outputs": [
    {
     "ename": "NameError",
     "evalue": "name 'clusters' is not defined",
     "output_type": "error",
     "traceback": [
      "\u001b[1;31m---------------------------------------------------------------------------\u001b[0m",
      "\u001b[1;31mNameError\u001b[0m                                 Traceback (most recent call last)",
      "\u001b[1;32m<ipython-input-15-c21b2cb5af31>\u001b[0m in \u001b[0;36m<module>\u001b[1;34m\u001b[0m\n\u001b[1;32m----> 1\u001b[1;33m \u001b[0mmodel\u001b[0m \u001b[1;33m=\u001b[0m \u001b[0mdoKMeans\u001b[0m\u001b[1;33m(\u001b[0m\u001b[0muser1\u001b[0m\u001b[1;33m,\u001b[0m \u001b[1;36m3\u001b[0m\u001b[1;33m)\u001b[0m\u001b[1;33m\u001b[0m\u001b[1;33m\u001b[0m\u001b[0m\n\u001b[0m",
      "\u001b[1;32m<ipython-input-14-aa4d21641425>\u001b[0m in \u001b[0;36mdoKMeans\u001b[1;34m(data, num_clusters)\u001b[0m\n\u001b[0;32m     10\u001b[0m \u001b[1;33m\u001b[0m\u001b[0m\n\u001b[0;32m     11\u001b[0m     \u001b[0mdataframe\u001b[0m \u001b[1;33m=\u001b[0m \u001b[0mpd\u001b[0m\u001b[1;33m.\u001b[0m\u001b[0mconcat\u001b[0m\u001b[1;33m(\u001b[0m\u001b[1;33m[\u001b[0m\u001b[0mdata\u001b[0m\u001b[1;33m.\u001b[0m\u001b[0mTowerLon\u001b[0m\u001b[1;33m,\u001b[0m \u001b[0mdata\u001b[0m\u001b[1;33m.\u001b[0m\u001b[0mTowerLat\u001b[0m\u001b[1;33m]\u001b[0m\u001b[1;33m,\u001b[0m \u001b[0maxis\u001b[0m \u001b[1;33m=\u001b[0m \u001b[1;36m1\u001b[0m\u001b[1;33m)\u001b[0m\u001b[1;33m\u001b[0m\u001b[1;33m\u001b[0m\u001b[0m\n\u001b[1;32m---> 12\u001b[1;33m     \u001b[0mkmeans\u001b[0m \u001b[1;33m=\u001b[0m \u001b[0mKMeans\u001b[0m\u001b[1;33m(\u001b[0m\u001b[0mn_clusters\u001b[0m\u001b[1;33m=\u001b[0m\u001b[0mclusters\u001b[0m\u001b[1;33m)\u001b[0m\u001b[1;33m\u001b[0m\u001b[1;33m\u001b[0m\u001b[0m\n\u001b[0m\u001b[0;32m     13\u001b[0m     \u001b[0mlabels\u001b[0m \u001b[1;33m=\u001b[0m \u001b[0mkmeans\u001b[0m\u001b[1;33m.\u001b[0m\u001b[0mfit_predict\u001b[0m\u001b[1;33m(\u001b[0m\u001b[0mdataframe\u001b[0m\u001b[1;33m)\u001b[0m\u001b[1;33m\u001b[0m\u001b[1;33m\u001b[0m\u001b[0m\n\u001b[0;32m     14\u001b[0m     \u001b[0mcentroids\u001b[0m \u001b[1;33m=\u001b[0m \u001b[0mkmeans\u001b[0m\u001b[1;33m.\u001b[0m\u001b[0mcluster_centers_\u001b[0m\u001b[1;33m\u001b[0m\u001b[1;33m\u001b[0m\u001b[0m\n",
      "\u001b[1;31mNameError\u001b[0m: name 'clusters' is not defined"
     ]
    }
   ],
   "source": [
    "model = doKMeans(user1, 3)"
   ]
  },
  {
   "cell_type": "markdown",
   "metadata": {},
   "source": [
    "Print out the mean `CallTime` value for the samples belonging to the cluster with the LEAST samples attached to it. If our logic is correct, the cluster with the MOST samples will be work. The cluster with the 2nd most samples will be home. And the `K=3` cluster with the least samples should be somewhere in between the two. What time, on average, is the user in between home and work, between the midnight and 5pm?"
   ]
  },
  {
   "cell_type": "code",
   "execution_count": null,
   "metadata": {},
   "outputs": [],
   "source": [
    "midWayClusterIndices = clusterWithFewestSamples(model)\n",
    "midWaySamples = user1[midWayClusterIndices]\n",
    "print(\"    Its Waypoint Time: \", midWaySamples.CallTime.mean())"
   ]
  },
  {
   "cell_type": "markdown",
   "metadata": {},
   "source": [
    "Let's visualize the results! First draw the X's for the clusters:"
   ]
  },
  {
   "cell_type": "code",
   "execution_count": null,
   "metadata": {},
   "outputs": [],
   "source": [
    "ax.scatter(model.cluster_centers_[:,1], model.cluster_centers_[:,0], s=169, c='r', marker='x', alpha=0.8, linewidths=2)\n",
    "ax.set_title('Weekday Calls Centroids')\n",
    "plt.show()"
   ]
  },
  {
   "cell_type": "code",
   "execution_count": null,
   "metadata": {},
   "outputs": [],
   "source": []
  }
 ],
 "metadata": {
  "anaconda-cloud": {},
  "kernelspec": {
   "display_name": "Python 3",
   "language": "python",
   "name": "python3"
  },
  "language_info": {
   "codemirror_mode": {
    "name": "ipython",
    "version": 3
   },
   "file_extension": ".py",
   "mimetype": "text/x-python",
   "name": "python",
   "nbconvert_exporter": "python",
   "pygments_lexer": "ipython3",
   "version": "3.7.6"
  },
  "toc": {
   "colors": {
    "hover_highlight": "#DAA520",
    "running_highlight": "#FF0000",
    "selected_highlight": "#FFD700"
   },
   "moveMenuLeft": true,
   "nav_menu": {
    "height": "58px",
    "width": "252px"
   },
   "navigate_menu": true,
   "number_sections": true,
   "sideBar": true,
   "threshold": 4,
   "toc_cell": false,
   "toc_section_display": "block",
   "toc_window_display": false,
   "widenNotebook": false
  }
 },
 "nbformat": 4,
 "nbformat_minor": 2
}
